{
  "nbformat": 4,
  "nbformat_minor": 0,
  "metadata": {
    "colab": {
      "name": "DANILO ANTONIO DA BOA MORTE MACEDO - POOATIVIDADESREVISAO20212.ipynb",
      "provenance": [],
      "collapsed_sections": [],
      "toc_visible": true,
      "include_colab_link": true
    },
    "kernelspec": {
      "name": "python3",
      "display_name": "Python 3"
    }
  },
  "cells": [
    {
      "cell_type": "markdown",
      "metadata": {
        "id": "view-in-github",
        "colab_type": "text"
      },
      "source": [
        "<a href=\"https://colab.research.google.com/github/daniloantoniomacedo/JavaCurso/blob/main/RevisaoJava.ipynb\" target=\"_parent\"><img src=\"https://colab.research.google.com/assets/colab-badge.svg\" alt=\"Open In Colab\"/></a>"
      ]
    },
    {
      "cell_type": "markdown",
      "metadata": {
        "id": "NQBI_OGdBDly"
      },
      "source": [
        "#POO\n",
        "\n",
        "#Lista de Atividades"
      ]
    },
    {
      "cell_type": "markdown",
      "metadata": {
        "id": "s0rtsTny9HkM"
      },
      "source": [
        "## Configurando o java no Google Colaboratory\n",
        "O codigo abaixo  abaixo irá configurar esta seção do Colab para permitir executar o java."
      ]
    },
    {
      "cell_type": "code",
      "metadata": {
        "id": "fWlXtbN78_Qn",
        "colab": {
          "base_uri": "https://localhost:8080/"
        },
        "outputId": "a090b157-2885-4d9f-fd41-ffb4619a27f4"
      },
      "source": [
        "!pip install git+git://github.com/canesche/nvcc4jupyter.git\n",
        "!git clone https://github.com/canesche/nvcc4jupyter\n",
        "%load_ext nvcc_plugin\n",
        "!java --version"
      ],
      "execution_count": 2,
      "outputs": [
        {
          "output_type": "stream",
          "text": [
            "Collecting git+git://github.com/canesche/nvcc4jupyter.git\n",
            "  Cloning git://github.com/canesche/nvcc4jupyter.git to /tmp/pip-req-build-edct5ytu\n",
            "  Running command git clone -q git://github.com/canesche/nvcc4jupyter.git /tmp/pip-req-build-edct5ytu\n",
            "Building wheels for collected packages: ColabPlugin\n",
            "  Building wheel for ColabPlugin (setup.py) ... \u001b[?25l\u001b[?25hdone\n",
            "  Created wheel for ColabPlugin: filename=ColabPlugin-blind-py3-none-any.whl size=12725 sha256=7a5d95b1b3c74707922675e8ed8f689a7a3026f14bb1b315d74414ff5127ff88\n",
            "  Stored in directory: /tmp/pip-ephem-wheel-cache-k9875rdv/wheels/97/a0/61/b9e5e1f61c5cfd624df291d57f6731a0f5832606b9ced448ef\n",
            "\u001b[33m  WARNING: Built wheel for ColabPlugin is invalid: Metadata 1.2 mandates PEP 440 version, but 'blind' is not\u001b[0m\n",
            "Failed to build ColabPlugin\n",
            "Installing collected packages: ColabPlugin\n",
            "    Running setup.py install for ColabPlugin ... \u001b[?25l\u001b[?25hdone\n",
            "\u001b[33m  DEPRECATION: ColabPlugin was installed using the legacy 'setup.py install' method, because a wheel could not be built for it. A possible replacement is to fix the wheel build issue reported above. You can find discussion regarding this at https://github.com/pypa/pip/issues/8368.\u001b[0m\n",
            "Successfully installed ColabPlugin-blind\n",
            "Cloning into 'nvcc4jupyter'...\n",
            "remote: Enumerating objects: 1147, done.\u001b[K\n",
            "remote: Counting objects: 100% (362/362), done.\u001b[K\n",
            "remote: Compressing objects: 100% (271/271), done.\u001b[K\n",
            "remote: Total 1147 (delta 100), reused 328 (delta 74), pack-reused 785\u001b[K\n",
            "Receiving objects: 100% (1147/1147), 35.71 MiB | 18.73 MiB/s, done.\n",
            "Resolving deltas: 100% (554/554), done.\n",
            "openjdk 11.0.11 2021-04-20\n",
            "OpenJDK Runtime Environment (build 11.0.11+9-Ubuntu-0ubuntu2.18.04)\n",
            "OpenJDK 64-Bit Server VM (build 11.0.11+9-Ubuntu-0ubuntu2.18.04, mixed mode, sharing)\n"
          ],
          "name": "stdout"
        }
      ]
    },
    {
      "cell_type": "markdown",
      "metadata": {
        "id": "GFRzlKrjAY3b"
      },
      "source": [
        "# Como Executar\n",
        "\n",
        "O **Google Colaboratory** é amplamente utilizado para executar código em Python com as bibliotecas e as ferramentas de aprendizado de máquina. \n",
        "\n",
        "O ambiente têm dois tipos de células: texto e código. Nativamente, a célula de código interpreta e executa Python. \n",
        "\n",
        "No entanto usaremos Java nas nossas atividades. Para executar codigo em java. Basta colocar %%java na celula de codigo.  "
      ]
    },
    {
      "cell_type": "code",
      "metadata": {
        "id": "1ftrVBu6AZdH",
        "colab": {
          "base_uri": "https://localhost:8080/"
        },
        "outputId": "67cca426-87c0-4b22-ac84-280791e75b0e"
      },
      "source": [
        "%%java\n",
        "\n",
        "public class HelloWorld {\n",
        "\n",
        "    public static void main(String[] args) {\n",
        "      System.out.println(\"Hello World!\");\n",
        "    }\n",
        "}"
      ],
      "execution_count": 3,
      "outputs": [
        {
          "output_type": "stream",
          "text": [
            "Hello World!\n",
            "\n"
          ],
          "name": "stdout"
        }
      ]
    },
    {
      "cell_type": "markdown",
      "metadata": {
        "id": "ijgk6Ru3Az0X"
      },
      "source": [
        "#ATIVIDADES BASICAS\n"
      ]
    },
    {
      "cell_type": "markdown",
      "metadata": {
        "id": "ol_9afQEEEfg"
      },
      "source": [
        "## ATIVIDADE 1:\n",
        "Complete o programa Java para imprimir 'Olá' e depois seu nome em uma linha separada."
      ]
    },
    {
      "cell_type": "code",
      "metadata": {
        "id": "mTbjcQMtEjaD",
        "colab": {
          "base_uri": "https://localhost:8080/"
        },
        "outputId": "8d4fad22-cb49-430c-be74-b9c96809a4d3"
      },
      "source": [
        "%%java\n",
        "\n",
        "public class Atividade1 {\n",
        "    \n",
        "  public static void main(String[] args)  {\n",
        "      System.out.println(\"Olá\");\n",
        "      System.out.println(\"Danilo\");\n",
        "  }\n",
        "\n",
        "}"
      ],
      "execution_count": 4,
      "outputs": [
        {
          "output_type": "stream",
          "text": [
            "Olá\n",
            "Danilo\n",
            "\n"
          ],
          "name": "stdout"
        }
      ]
    },
    {
      "cell_type": "markdown",
      "metadata": {
        "id": "khpQ-r4kA0ql"
      },
      "source": [
        "## ATIVIDADE 2:\n",
        "Complete o codigo para imprimir a quantidade e meses e dias de um numero de anos, que esta na variavel anos;\n",
        "\n",
        "Leve em consideração:\n",
        "- 1 ano = 365 dias;\n",
        "\n",
        "Saida Esperada:\n",
        "```\n",
        "84 meses\n",
        "2555 dias\n",
        "```\n",
        "\n"
      ]
    },
    {
      "cell_type": "code",
      "metadata": {
        "id": "z4Da9tIlEq8r",
        "colab": {
          "base_uri": "https://localhost:8080/"
        },
        "outputId": "1dd93031-d7e7-4afd-c937-892740181587"
      },
      "source": [
        "%%java\n",
        "\n",
        "\n",
        "public class Atividade2 {\n",
        "    \n",
        "  public static void main(String[] args)  {\n",
        "      int anos = 7;\n",
        "      int meses = anos*12;\n",
        "      int dias = anos*365;\n",
        "\n",
        "      System.out.printf(\"%d meses \\n\", meses);\n",
        "      System.out.printf(\"%d dias \\n\", dias);\n",
        "\n",
        "  }\n",
        "\n",
        "}"
      ],
      "execution_count": 6,
      "outputs": [
        {
          "output_type": "stream",
          "text": [
            "84 meses \n",
            "2555 dias \n",
            "\n"
          ],
          "name": "stdout"
        }
      ]
    },
    {
      "cell_type": "markdown",
      "metadata": {
        "id": "ZGz5XvUqA0uV"
      },
      "source": [
        "## ATIVIDADE 3:\n",
        "Complete o codigo para imprimir:\n",
        "- média aritmética dos números 8,9 e 7. \n",
        "- média dos números 4, 5 e 6. \n",
        "- soma das duas médias. \n",
        "- média das médias.\n",
        "\n",
        "\n",
        "\n"
      ]
    },
    {
      "cell_type": "code",
      "metadata": {
        "id": "HCznpZQCOOLD",
        "colab": {
          "base_uri": "https://localhost:8080/"
        },
        "outputId": "20e8677d-3bfb-42a6-c748-b0d52115dcaf"
      },
      "source": [
        "%%java\n",
        "\n",
        "\n",
        "public class Atividade3 {\n",
        "    \n",
        "  public static void main(String[] args)  {\n",
        "    double media1 = (8.9+7)/2;\n",
        "    double media2 = (4.0+5+6)/2;\n",
        "    System.out.printf(\"%.2f \\n\", media1);\n",
        "    System.out.printf(\"%.2f \\n\", media2);\n",
        "    System.out.printf(\"%.2f \\n\", media1+media2);\n",
        "    System.out.printf(\"%.2f \\n\", (media1+media2)/2);\n",
        "  }\n",
        "\n",
        "}"
      ],
      "execution_count": 16,
      "outputs": [
        {
          "output_type": "stream",
          "text": [
            "7.95 \n",
            "7.50 \n",
            "15.45 \n",
            "7.73 \n",
            "\n"
          ],
          "name": "stdout"
        }
      ]
    },
    {
      "cell_type": "markdown",
      "metadata": {
        "id": "qXc_7OoAP77o"
      },
      "source": [
        "## ATIVIDADE 4:\n",
        "Complete o codigo para imprimir o **antecessor** e seu **sucessor** do numero."
      ]
    },
    {
      "cell_type": "code",
      "metadata": {
        "id": "j3MD9BegQ4kb",
        "colab": {
          "base_uri": "https://localhost:8080/"
        },
        "outputId": "9d38b67f-a31d-4aad-b26e-9681cb3999fd"
      },
      "source": [
        "%%java \n",
        "public class Atividade4 {\n",
        "    \n",
        "  public static void main(String[] args)  {\n",
        "    int numero = 5;\n",
        "    int numeroCopia = numero;\n",
        "    System.out.printf(\"%d \\n\", --numero);\n",
        "    System.out.printf(\"%d \\n\", ++numeroCopia);\n",
        "  }\n",
        "\n",
        "}"
      ],
      "execution_count": 20,
      "outputs": [
        {
          "output_type": "stream",
          "text": [
            "4 \n",
            "6 \n",
            "\n"
          ],
          "name": "stdout"
        }
      ]
    },
    {
      "cell_type": "markdown",
      "metadata": {
        "id": "OTMJ05DQRlJC"
      },
      "source": [
        "## ATIVIDADE 5:\n",
        "Complete o codigo para imprimir 20 vezes a mensagem “Java é Lindo!”. "
      ]
    },
    {
      "cell_type": "code",
      "metadata": {
        "id": "1Pfq7WThSQ1f",
        "colab": {
          "base_uri": "https://localhost:8080/"
        },
        "outputId": "18a2f83f-75a1-4a10-b779-d2bf6854a785"
      },
      "source": [
        "%%java \n",
        "public class Atividade5 {\n",
        "    \n",
        "  public static void main(String[] args)  {\n",
        "      for(int i=0; i<20 ;i++){\n",
        "          int count = i + 1;\n",
        "          System.out.printf(\"%d: Java é Lindo! \\n\", count);\n",
        "      }\n",
        "  }\n",
        "\n",
        "}"
      ],
      "execution_count": 26,
      "outputs": [
        {
          "output_type": "stream",
          "text": [
            "1: Java é Lindo! \n",
            "2: Java é Lindo! \n",
            "3: Java é Lindo! \n",
            "4: Java é Lindo! \n",
            "5: Java é Lindo! \n",
            "6: Java é Lindo! \n",
            "7: Java é Lindo! \n",
            "8: Java é Lindo! \n",
            "9: Java é Lindo! \n",
            "10: Java é Lindo! \n",
            "11: Java é Lindo! \n",
            "12: Java é Lindo! \n",
            "13: Java é Lindo! \n",
            "14: Java é Lindo! \n",
            "15: Java é Lindo! \n",
            "16: Java é Lindo! \n",
            "17: Java é Lindo! \n",
            "18: Java é Lindo! \n",
            "19: Java é Lindo! \n",
            "20: Java é Lindo! \n",
            "\n"
          ],
          "name": "stdout"
        }
      ]
    },
    {
      "cell_type": "markdown",
      "metadata": {
        "id": "j4X3pnKdSSw8"
      },
      "source": [
        "## ATIVIDADE 6:\n",
        "Complete o codigo para imprimir a soma dos numeros de 1 a 15. "
      ]
    },
    {
      "cell_type": "code",
      "metadata": {
        "id": "0HIUrrNqSe2Y",
        "colab": {
          "base_uri": "https://localhost:8080/"
        },
        "outputId": "e9d37da9-ab2c-4937-ada0-a2d844f42ef7"
      },
      "source": [
        "%%java \n",
        "public class Atividade6 {\n",
        "    \n",
        "  public static void main(String[] args)  {\n",
        "      int i=0;\n",
        "      int sum=0;\n",
        "      while(i<15){\n",
        "          i++;\n",
        "          sum += i;\n",
        "      }\n",
        "      System.out.println(sum);\n",
        "  }\n",
        "\n",
        "}"
      ],
      "execution_count": 31,
      "outputs": [
        {
          "output_type": "stream",
          "text": [
            "120\n",
            "\n"
          ],
          "name": "stdout"
        }
      ]
    },
    {
      "cell_type": "markdown",
      "metadata": {
        "id": "3vufNobgSgAE"
      },
      "source": [
        "## ATIVIDADE 7:\n",
        "Complete o codigo para imprimir a soma dos numeros pares de 1 a 15. \n"
      ]
    },
    {
      "cell_type": "code",
      "metadata": {
        "id": "pHkHuZUaT-ci",
        "colab": {
          "base_uri": "https://localhost:8080/"
        },
        "outputId": "224ff8b7-699d-470c-e7ea-a0551b4151c5"
      },
      "source": [
        "%%java \n",
        "public class Atividade7 {\n",
        "    \n",
        "  public static void main(String[] args)  {\n",
        "      int sum = 0;\n",
        "      for(int i=0; i<15; i++){\n",
        "          if(i%2==0){\n",
        "              sum += i;\n",
        "          }\n",
        "      }\n",
        "      System.out.println(sum);\n",
        "  }\n",
        "\n",
        "}"
      ],
      "execution_count": 34,
      "outputs": [
        {
          "output_type": "stream",
          "text": [
            "56\n",
            "\n"
          ],
          "name": "stdout"
        }
      ]
    },
    {
      "cell_type": "markdown",
      "metadata": {
        "id": "e7iCXCdES1v7"
      },
      "source": [
        "## ATIVIDADE 8:\n",
        "Complete o codigo para imprimir a quantos numeros divisiveis por 3 ou 7 existem entre 1 e 200. \n"
      ]
    },
    {
      "cell_type": "code",
      "metadata": {
        "id": "hcm1xj5xUXOn",
        "colab": {
          "base_uri": "https://localhost:8080/"
        },
        "outputId": "399a74d4-6a5d-415d-c788-e04c482d749b"
      },
      "source": [
        "%%java \n",
        "public class Atividade8 {\n",
        "    \n",
        "  public static void main(String[] args)  {\n",
        "      int count = 0;\n",
        "      for(int i=1; i<201; i++){\n",
        "          if(i%3 == 0 || i%7 == 0){\n",
        "              count++;\n",
        "          }\n",
        "      }\n",
        "      System.out.println(count);\n",
        "   }\n",
        "}"
      ],
      "execution_count": 41,
      "outputs": [
        {
          "output_type": "stream",
          "text": [
            "85\n",
            "\n"
          ],
          "name": "stdout"
        }
      ]
    },
    {
      "cell_type": "markdown",
      "metadata": {
        "id": "RvWMeQpKSzhS"
      },
      "source": [
        "## ATIVIDADE 9:\n",
        "Complete o codigo para imprimir a figura. \n",
        "\n",
        "```\n",
        "* \n",
        "* * \n",
        "* * * \n",
        "* * * * \n",
        "* * * * * \n",
        "* * * * * * \n",
        "* * * * * * * \n",
        "* * * * * * * * \n",
        "* * * * * * * * * \n",
        "* * * * * * * * * * \n",
        "```\n",
        "\n"
      ]
    },
    {
      "cell_type": "code",
      "metadata": {
        "id": "GOw7uAdgVyS_",
        "colab": {
          "base_uri": "https://localhost:8080/"
        },
        "outputId": "7dfcdcfb-18d1-4582-8316-40ba010c55ff"
      },
      "source": [
        "%%java \n",
        "\n",
        "public class Atividade9 {\n",
        "  \n",
        "  //O(n)\n",
        "  public static void main(String[] args)  {\n",
        "      String var = \"*\";\n",
        "      System.out.println(var);\n",
        "      for(int i=0; i<9; i++){\n",
        "          var = var + \" *\";\n",
        "          System.out.println(var);\n",
        "      }\n",
        "  }\n",
        "\n",
        "}"
      ],
      "execution_count": 56,
      "outputs": [
        {
          "output_type": "stream",
          "text": [
            "*\n",
            "* *\n",
            "* * *\n",
            "* * * *\n",
            "* * * * *\n",
            "* * * * * *\n",
            "* * * * * * *\n",
            "* * * * * * * *\n",
            "* * * * * * * * *\n",
            "* * * * * * * * * *\n",
            "\n"
          ],
          "name": "stdout"
        }
      ]
    },
    {
      "cell_type": "markdown",
      "metadata": {
        "id": "lQ34n4QMWHjv"
      },
      "source": [
        "## ATIVIDADE 10:\n",
        "Complete o codigo para imprimir o fatorial de 13. "
      ]
    },
    {
      "cell_type": "code",
      "metadata": {
        "id": "F0ZyPgIgUq3v",
        "colab": {
          "base_uri": "https://localhost:8080/"
        },
        "outputId": "34684d5e-58b4-4bf3-ca25-650e2a52bc7c"
      },
      "source": [
        "%%java \n",
        "public class Atividade10 {\n",
        "    \n",
        "  public static void main(String[] args)  {\n",
        "      System.out.println(Atividade10.factorial(13));\n",
        "  }\n",
        "\n",
        "  /**\n",
        "  * CUIDADO COM O TIPO!!!!\n",
        "  */\n",
        "  public static long factorial(long num){\n",
        "        if (num == 0){\n",
        "            return 1;\n",
        "        }\n",
        "        return num*factorial(num-1);\n",
        "  }\n",
        "\n",
        "}"
      ],
      "execution_count": 78,
      "outputs": [
        {
          "output_type": "stream",
          "text": [
            "6227020800\n",
            "\n"
          ],
          "name": "stdout"
        }
      ]
    },
    {
      "cell_type": "markdown",
      "metadata": {
        "id": "FB0bkKotYKeb"
      },
      "source": [
        "# ATIVIDADES PARTE 2"
      ]
    },
    {
      "cell_type": "markdown",
      "metadata": {
        "id": "XvwJxFoUZSCR"
      },
      "source": [
        "## ATIVIDADE 2.1:\n",
        "Complete o codigo para transformar colocar toda a frase em caixa alta."
      ]
    },
    {
      "cell_type": "code",
      "metadata": {
        "id": "N3QZOlG9Z0Vl",
        "colab": {
          "base_uri": "https://localhost:8080/"
        },
        "outputId": "9d0834b3-8b3b-4abd-a869-d769793f2086"
      },
      "source": [
        "%%java \n",
        "public class Atividade21 {\n",
        "    \n",
        "  public static void main(String[] args)  {\n",
        "      String frase = \"Java é Lindo\";\n",
        "      System.out.println(frase.toUpperCase());\n",
        "  }\n",
        "\n",
        "}"
      ],
      "execution_count": 79,
      "outputs": [
        {
          "output_type": "stream",
          "text": [
            "JAVA É LINDO\n",
            "\n"
          ],
          "name": "stdout"
        }
      ]
    },
    {
      "cell_type": "markdown",
      "metadata": {
        "id": "OAmsd31lZnbJ"
      },
      "source": [
        "## ATIVIDADE 2.2:\n",
        "Complete o codigo para contar quantas vogais existem na frase; "
      ]
    },
    {
      "cell_type": "code",
      "metadata": {
        "id": "vruXrq--bYv2",
        "colab": {
          "base_uri": "https://localhost:8080/"
        },
        "outputId": "99348796-fb6d-4498-b28f-5ae7d3ebbb33"
      },
      "source": [
        "%%java \n",
        "public class Atividade22 {\n",
        "    \n",
        " public static void main(String[] args)  {\n",
        "        String frase = \"Java é LindO\";\n",
        "        char[] vogais = {'a', 'e', 'i', 'o', 'u'};\n",
        "        int count = 0;\n",
        "        for(char v : vogais){\n",
        "            for(char c : Atividade22.createArray(frase)){\n",
        "                if(c == v){\n",
        "                    count++;\n",
        "                }\n",
        "            }\n",
        "        }\n",
        "        System.out.println(count);\n",
        "    }\n",
        "\n",
        "    public static char[] createArray(String frase){\n",
        "        char[] array = new char[frase.length()];\n",
        "        for(int i=0; i<frase.length();i++){\n",
        "            array[i] = frase.toLowerCase().charAt(i);\n",
        "        }\n",
        "        return array;\n",
        "    }\n",
        "}\n"
      ],
      "execution_count": 87,
      "outputs": [
        {
          "output_type": "stream",
          "text": [
            "4\n",
            "\n"
          ],
          "name": "stdout"
        }
      ]
    },
    {
      "cell_type": "markdown",
      "metadata": {
        "id": "z8_-U16nX98R"
      },
      "source": [
        "## ATIVIDADE 2.3:\n",
        "Complete o codigo para verificar se a frase \"A dama admirou o rim da amada\" é um Palíndromo.\n",
        "\n",
        "Dicas:\n",
        "- Palíndromo, do grego palin (novo) e dromo (percurso), é toda palavra ou frase que pode ser lida de trás pra frente e que, independente da direção, mantém o seu sentido.\n",
        "- remova os espaços entre as palavras;\n"
      ]
    },
    {
      "cell_type": "code",
      "metadata": {
        "id": "2RvvFCDUfwtM",
        "colab": {
          "base_uri": "https://localhost:8080/"
        },
        "outputId": "0d45eda7-bdf2-44ed-cce4-341908a34c98"
      },
      "source": [
        "%%java \n",
        "public class Atividade23 {\n",
        "  public static void main(String[] args) {\n",
        "        String frase = \"A dama admirou o rim da amada\";\n",
        "        String newFrase = frase.replace(\" \", \"\").toLowerCase();\n",
        "\n",
        "        char[] array = new char[newFrase.length()];\n",
        "\n",
        "        for(int i : array){\n",
        "            array[i]=newFrase.charAt(i);\n",
        "        }\n",
        "\n",
        "        System.out.println(\"Palíndromo? \" + verify(newFrase, array));\n",
        "\n",
        "    }\n",
        "\n",
        "    public static boolean verify(String frase, char[] array){\n",
        "        for (char c : array) {\n",
        "            for(int i = frase.length()-1; i>=0; i--){ /*Gostaria de um for each ivertido no Java.*/\n",
        "                if(c == frase.charAt(i)){\n",
        "                    return true;\n",
        "                }\n",
        "                return false;\n",
        "            }\n",
        "        }\n",
        "        return false;\n",
        "    }\n",
        "}"
      ],
      "execution_count": 91,
      "outputs": [
        {
          "output_type": "stream",
          "text": [
            "Palíndromo? true\n",
            "\n"
          ],
          "name": "stdout"
        }
      ]
    },
    {
      "cell_type": "markdown",
      "metadata": {
        "id": "RMB2aVXmh6H3"
      },
      "source": [
        "## ATIVIDADE 2.4:\n",
        "Complete o codigo para criar um array com numeros inteiros de 1 a 50."
      ]
    },
    {
      "cell_type": "code",
      "metadata": {
        "id": "Y2GZdxYmbI9b",
        "colab": {
          "base_uri": "https://localhost:8080/"
        },
        "outputId": "4ba7c370-2902-4961-fc45-2ff4c59298ec"
      },
      "source": [
        "%%java \n",
        "import java.util.*;\n",
        "\n",
        "public class Atividade24 {\n",
        "    \n",
        "  public static void main(String[] args)  {\n",
        "      int[] num = new int[50];\n",
        "      int count = 0;\n",
        "      for(int i : num){\n",
        "          num[i] = ++count;\n",
        "          System.out.print(num[i] + \" \");\n",
        "      }\n",
        "      \n",
        "  }\n",
        "\n",
        "}"
      ],
      "execution_count": 97,
      "outputs": [
        {
          "output_type": "stream",
          "text": [
            "1 2 3 4 5 6 7 8 9 10 11 12 13 14 15 16 17 18 19 20 21 22 23 24 25 26 27 28 29 30 31 32 33 34 35 36 37 38 39 40 41 42 43 44 45 46 47 48 49 50 \n"
          ],
          "name": "stdout"
        }
      ]
    },
    {
      "cell_type": "markdown",
      "metadata": {
        "id": "mG8Du0C4eAOW"
      },
      "source": [
        "## ATIVIDADE 2.5:\n",
        "Complete o codigo para imprimit o array de numeros em ordem cresente."
      ]
    },
    {
      "cell_type": "code",
      "metadata": {
        "id": "Xz4clWWTeYHx",
        "colab": {
          "base_uri": "https://localhost:8080/"
        },
        "outputId": "4dc75ffa-e097-4648-baf9-a1cf09f788a8"
      },
      "source": [
        "%%java \n",
        "import java.util.*;\n",
        "\n",
        "public class Atividade25 {\n",
        "    \n",
        "  public static void main(String[] args)  {\n",
        "     int[] array =  {2,8,1,7,4,3,5,9,6};\n",
        "     for (int i : array){\n",
        "         System.out.print(i + \" \");\n",
        "     }\n",
        "\n",
        "  }\n",
        "\n",
        "}"
      ],
      "execution_count": 104,
      "outputs": [
        {
          "output_type": "stream",
          "text": [
            "2 8 1 7 4 3 5 9 6 \n"
          ],
          "name": "stdout"
        }
      ]
    },
    {
      "cell_type": "markdown",
      "metadata": {
        "id": "wF4aSkFGft73"
      },
      "source": [
        "## ATIVIDADE 2.6:\n",
        "Em uma competição o resultado foi dado em uma lista de nomes ordenada pela posição que os atletas ficaram na corrida.\n",
        "\n",
        "Complete o codigo encontrar e imprimir a posição do nome de 'Pedro' na corrida."
      ]
    },
    {
      "cell_type": "code",
      "metadata": {
        "id": "-cBKdr-HgNZq",
        "colab": {
          "base_uri": "https://localhost:8080/"
        },
        "outputId": "b96bee66-3f89-4d8d-cd23-caf671b03906"
      },
      "source": [
        "%%java \n",
        "import java.util.*;\n",
        "\n",
        "public class Atividade26 {\n",
        "    \n",
        "  public static void main(String[] args)  {\n",
        "     String[] array =  {\"ANA\",\"JOAO\",\"MARIA\",\"PEDRO\",\"EDUARDO\",\"CAIO\",\"JOSE\"};\n",
        "     int count = 0;\n",
        "     for(String nome : array){\n",
        "         count++; //Deve iniciar com 0.\n",
        "         if(nome.equals(\"PEDRO\")){\n",
        "             System.out.printf(\"A posição de Pedro é o %dº lugar.\", count);\n",
        "         }\n",
        "         //count++; Deve iniciar com 1.\n",
        "     }\n",
        "  }\n",
        "\n",
        "}"
      ],
      "execution_count": 113,
      "outputs": [
        {
          "output_type": "stream",
          "text": [
            "A posição de Pedro é o 4º lugar.\n"
          ],
          "name": "stdout"
        }
      ]
    },
    {
      "cell_type": "markdown",
      "metadata": {
        "id": "jQaWmuLuhRIS"
      },
      "source": [
        "## ATIVIDADE 2.7:\n",
        "Com base no array que representa um jogo da velha e imprima o resultado de acordo com a saida:\n",
        "```\n",
        "X X O\n",
        "O X O\n",
        "X O X\n",
        "```\n",
        "\n",
        "\n"
      ]
    },
    {
      "cell_type": "code",
      "metadata": {
        "id": "8Olp5oFpiQW5",
        "colab": {
          "base_uri": "https://localhost:8080/"
        },
        "outputId": "1d8ea54e-509d-4230-e846-8287b22be789"
      },
      "source": [
        "%%java \n",
        "import java.util.*;\n",
        "\n",
        "public class Atividade27 {\n",
        "    \n",
        "  public static void main(String[] args)  {\n",
        "    String[] array =  {\"X\",\"X\",\"O\",\"O\",\"X\",\"O\",\"X\",\"O\",\"X\"};\n",
        "    int count = 0;\n",
        "    for(String velha : array){\n",
        "        count++;\n",
        "        System.out.print(velha + \" \");\n",
        "        if(count%3 == 0){\n",
        "            System.out.println();\n",
        "        }\n",
        "    }\n",
        "\n",
        "  }\n",
        "\n",
        "}"
      ],
      "execution_count": 115,
      "outputs": [
        {
          "output_type": "stream",
          "text": [
            "X X O \n",
            "O X O \n",
            "X O X \n",
            "\n"
          ],
          "name": "stdout"
        }
      ]
    },
    {
      "cell_type": "markdown",
      "metadata": {
        "id": "NlcvfLijjM4v"
      },
      "source": [
        "## ATIVIDADE 2.8:\n",
        "Com base no array multidimensional que representa um jogo da velha e imprima o resultado de acordo com a saida:\n",
        "```\n",
        "X X O\n",
        "O X O\n",
        "X O X\n",
        "```"
      ]
    },
    {
      "cell_type": "code",
      "metadata": {
        "id": "8ZIkVWqhja7W",
        "colab": {
          "base_uri": "https://localhost:8080/"
        },
        "outputId": "ef8bbd21-9e9d-4de0-d23c-b7525e0993b7"
      },
      "source": [
        "%%java \n",
        "import java.util.*;\n",
        "\n",
        "public class Atividade28 {\n",
        "    \n",
        "  public static void main(String[] args)  {\n",
        "     String[][] array =  new String[3][];\n",
        "     array[0] = new String[]{\"X\",\"X\",\"O\"};\n",
        "     array[1] = new String[]{\"O\",\"X\",\"O\"};\n",
        "     array[2] = new String[]{\"X\",\"O\",\"X\"};\n",
        "\n",
        "     int count = 0;\n",
        "     for (String[] linha : array){\n",
        "         for (String n : linha){\n",
        "             count++;\n",
        "             System.out.print(n + \" \");\n",
        "             if(count%3 == 0){\n",
        "              System.out.println();\n",
        "           }\n",
        "         }\n",
        "     }\n",
        "\n",
        "  }\n",
        "\n",
        "}"
      ],
      "execution_count": 120,
      "outputs": [
        {
          "output_type": "stream",
          "text": [
            "X X O \n",
            "O X O \n",
            "X O X \n",
            "\n"
          ],
          "name": "stdout"
        }
      ]
    },
    {
      "cell_type": "markdown",
      "metadata": {
        "id": "kQLBKmHYmCUK"
      },
      "source": [
        "## ATIVIDADE 2.9:\n",
        "Declare e inicialize uma lista de Alunos de uma turma com Nome e nota. Imprima a lista de alunos e a media da turma.\n",
        "\n",
        "Alunos\n",
        "- Jose com nota 6\n",
        "- Maria com nota 9\n",
        "- Pedro com nota 10\n",
        "- Caio com nota 5\n",
        "\n",
        "Saida Esperada:\n",
        "```\n",
        "Nome: Jose Nota: 6\n",
        "Nome: Maria Nota: 9\n",
        "Nome: Pedro Nota: 10\n",
        "Nome: Caio Nota: 5\n",
        "Media da turma: 7.0\n",
        "```\n",
        "\n",
        "\n",
        "\n"
      ]
    },
    {
      "cell_type": "code",
      "metadata": {
        "id": "3s36LnZm5bG6",
        "colab": {
          "base_uri": "https://localhost:8080/"
        },
        "outputId": "4d92729b-ec9a-40a3-fa1b-c721a7e63dce"
      },
      "source": [
        "%%java \n",
        "import java.util.ArrayList;\n",
        "\n",
        "public class Atividade29 {\n",
        "    \n",
        "    public static void main(String[] args){\n",
        "\n",
        "        ArrayList<Student> lista = new ArrayList<Student>();\n",
        "        double gradeTotal = 0;\n",
        "\n",
        "        lista.add(0, new Student(\"Jose\", 6.0));\n",
        "        lista.add(1, new Student(\"Maria\", 9.0));\n",
        "        lista.add(2, new Student(\"Pedro\", 10.0));\n",
        "        lista.add(3, new Student(\"Caio\", 5.0));\n",
        "\n",
        "        for (Student student : lista){\n",
        "            System.out.printf(\"Nome: %s Nota: %.0f \\n\", student.name, student.grade);\n",
        "            gradeTotal += student.grade;\n",
        "        }\n",
        "        System.out.printf(\"Média da turma: %.1f \", gradeTotal/ lista.size());\n",
        "\n",
        "    }\n",
        "}\n",
        "\n",
        "final class Student{\n",
        "    String name;\n",
        "    double grade;\n",
        "\n",
        "    Student(String name, double grade) {\n",
        "        this.name = name;\n",
        "        this.grade = grade;\n",
        "    }\n",
        "}\n"
      ],
      "execution_count": 126,
      "outputs": [
        {
          "output_type": "stream",
          "text": [
            "Nome: Jose Nota: 6 \n",
            "Nome: Maria Nota: 9 \n",
            "Nome: Pedro Nota: 10 \n",
            "Nome: Caio Nota: 5 \n",
            "Média da turma: 7.5 \n"
          ],
          "name": "stdout"
        }
      ]
    }
  ]
}